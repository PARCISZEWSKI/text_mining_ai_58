{
 "cells": [
  {
   "cell_type": "code",
   "execution_count": 16,
   "id": "9d44c0e5",
   "metadata": {},
   "outputs": [
    {
     "name": "stderr",
     "output_type": "stream",
     "text": [
      "[nltk_data] Downloading package stopwords to\n",
      "[nltk_data]     /Users/janczarnecki/nltk_data...\n",
      "[nltk_data]   Package stopwords is already up-to-date!\n",
      "[nltk_data] Downloading package wordnet to\n",
      "[nltk_data]     /Users/janczarnecki/nltk_data...\n",
      "[nltk_data]   Package wordnet is already up-to-date!\n",
      "[nltk_data] Downloading package omw-1.4 to\n",
      "[nltk_data]     /Users/janczarnecki/nltk_data...\n",
      "[nltk_data]   Package omw-1.4 is already up-to-date!\n"
     ]
    },
    {
     "data": {
      "text/plain": [
       "True"
      ]
     },
     "execution_count": 16,
     "metadata": {},
     "output_type": "execute_result"
    }
   ],
   "source": [
    "import pandas as pd\n",
    "import numpy as np\n",
    "import os\n",
    "import re\n",
    "from collections import Counter\n",
    "from sklearn.feature_extraction.text import TfidfVectorizer\n",
    "from sklearn.decomposition import NMF\n",
    "from sklearn.metrics import classification_report, confusion_matrix, ConfusionMatrixDisplay\n",
    "import matplotlib.pyplot as plt\n",
    "from datasets import load_dataset\n",
    "\n",
    "import nltk\n",
    "from nltk.corpus import stopwords\n",
    "from nltk.stem import WordNetLemmatizer\n",
    "\n",
    "nltk.download('stopwords')\n",
    "nltk.download('wordnet')\n",
    "nltk.download('omw-1.4')"
   ]
  },
  {
   "cell_type": "code",
   "execution_count": 17,
   "id": "bb9e040b",
   "metadata": {},
   "outputs": [],
   "source": [
    "# Books\n",
    "book_df = pd.read_csv('datasets_files/book-reviews.csv', encoding='ISO-8859-1')\n",
    "book_df = book_df.rename(columns={book_df.columns[0]: 'text'})\n",
    "book_df['topic'] = 'book'\n",
    "\n",
    "# Movies \n",
    "def load_movie_reviews(path, sentiment):\n",
    "    files = []\n",
    "    for filename in os.listdir(path):\n",
    "        with open(os.path.join(path, filename), encoding='ISO-8859-1') as f:\n",
    "            files.append({'text': f.read(), 'sentiment': sentiment})\n",
    "    return pd.DataFrame(files)\n",
    "\n",
    "movie_pos = load_movie_reviews('datasets_files/movie-training-set-polarity/pos', 'positive')\n",
    "movie_neg = load_movie_reviews('datasets_files/movie-training-set-polarity/neg', 'negative')\n",
    "movie_df = pd.concat([movie_pos, movie_neg], ignore_index=True)\n",
    "movie_df['topic'] = 'movie'\n",
    "\n",
    "# Sports\n",
    "ds = load_dataset(\"datadreamer-dev/cnn_dailymail_sports\")\n",
    "sports_texts = [x['article'] for x in ds['train']]\n",
    "sports_df = pd.DataFrame({'text': sports_texts, 'topic': 'sports'})\n",
    "\n",
    "# Downsample \n",
    "min_class_size = min(len(movie_df), len(sports_df))\n",
    "book_df = book_df.sample(n=min_class_size, random_state=42).reset_index(drop=True)\n",
    "movie_df = movie_df.sample(n=min_class_size, random_state=42).reset_index(drop=True)\n",
    "sports_df = sports_df.sample(n=min_class_size, random_state=42).reset_index(drop=True)\n",
    "\n",
    "# Combine all\n",
    "train_df = pd.concat([book_df[['text', 'topic']], movie_df[['text', 'topic']], sports_df[['text', 'topic']]], ignore_index=True)\n",
    "test_df = pd.read_csv('sentiment-topic-test.tsv', sep='\\t')"
   ]
  },
  {
   "cell_type": "code",
   "execution_count": 18,
   "id": "cae4de66",
   "metadata": {},
   "outputs": [],
   "source": [
    "# Lowercase, remove non-alphabetic characters, tokenize, remove stopwords, and lemmatize\n",
    "stop_words = set(stopwords.words('english'))\n",
    "lemmatizer = WordNetLemmatizer()\n",
    "\n",
    "def preprocess(text):\n",
    "    text = text.lower()\n",
    "    text = re.sub(r\"[^a-z\\s]\", \"\", text)\n",
    "    tokens = text.split()\n",
    "    tokens = [w for w in tokens if w not in stop_words]\n",
    "    tokens = [lemmatizer.lemmatize(w) for w in tokens]\n",
    "    return \" \".join(tokens)\n",
    "\n",
    "train_df['clean'] = train_df['text'].apply(preprocess)\n",
    "test_df['clean'] = test_df['sentence'].apply(preprocess)"
   ]
  },
  {
   "cell_type": "code",
   "execution_count": 19,
   "id": "14be32af",
   "metadata": {},
   "outputs": [
    {
     "name": "stdout",
     "output_type": "stream",
     "text": [
      "Best params: {'max_df': 0.9, 'min_df': 2, 'n_components': 3} with reconstruction error 11.181553312447935\n"
     ]
    }
   ],
   "source": [
    "# NMF\n",
    "\n",
    "n_topics = train_df['topic'].nunique() \n",
    "\n",
    "param_grid = {\n",
    "    'max_df': [0.9, 0.95],\n",
    "    'min_df': [1, 2]}\n",
    "\n",
    "best_score = np.inf\n",
    "best_params = {}\n",
    "\n",
    "for max_df in param_grid['max_df']:\n",
    "    for min_df in param_grid['min_df']:\n",
    "        tfidf = TfidfVectorizer(max_df=max_df, min_df=min_df, stop_words='english')\n",
    "        X = tfidf.fit_transform(train_df['clean'])\n",
    "\n",
    "        nmf = NMF(n_components=n_topics, random_state=42, init='nndsvda', max_iter=200)\n",
    "        nmf.fit(X)\n",
    "        score = nmf.reconstruction_err_\n",
    "\n",
    "        if score < best_score:\n",
    "            best_score = score\n",
    "            best_params = {'max_df': max_df,\n",
    "                           'min_df': min_df,\n",
    "                           'n_components': n_topics}\n",
    "\n",
    "\n",
    "print(\"Best params:\", best_params, \"with reconstruction error\", best_score)\n"
   ]
  },
  {
   "cell_type": "code",
   "execution_count": 20,
   "id": "4522f6fa",
   "metadata": {},
   "outputs": [],
   "source": [
    "# Fit final model with best parameters\n",
    "tfidf = TfidfVectorizer(max_df=best_params['max_df'], min_df=best_params['min_df'], stop_words='english')\n",
    "X_train = tfidf.fit_transform(train_df['clean'])\n",
    "\n",
    "nmf = NMF(n_components=n_topics, random_state=42, init='nndsvda', max_iter=200)\n",
    "W_train = nmf.fit_transform(X_train)\n",
    "H = nmf.components_"
   ]
  },
  {
   "cell_type": "code",
   "execution_count": 21,
   "id": "818ad020",
   "metadata": {},
   "outputs": [
    {
     "name": "stdout",
     "output_type": "stream",
     "text": [
      "Topic 0:  film, movie, like, character, good, make, story, plot, life, michael\n",
      "Topic 1:  book, read, character, kept, rachel, reading, good, author, train, story\n",
      "Topic 2:  said, hernandez, game, team, league, lloyd, player, police, sport, club\n"
     ]
    }
   ],
   "source": [
    "# Display learned topics\n",
    "feature_names = tfidf.get_feature_names_out()\n",
    "def display_topics(H, feature_names, num_top_words=10):\n",
    "    for idx, topic in enumerate(H):\n",
    "        top_idx = topic.argsort()[:-num_top_words-1:-1]\n",
    "        terms = [feature_names[i] for i in top_idx]\n",
    "        print(f\"Topic {idx}: \", \", \".join(terms))\n",
    "\n",
    "display_topics(H, feature_names)\n"
   ]
  },
  {
   "cell_type": "code",
   "execution_count": 22,
   "id": "aa062090",
   "metadata": {},
   "outputs": [],
   "source": [
    "# Predict topics on test set\n",
    "test_X = tfidf.transform(test_df['clean'])\n",
    "W_test = nmf.transform(test_X)\n",
    "test_pred = np.argmax(W_test, axis=1)"
   ]
  },
  {
   "cell_type": "code",
   "execution_count": 23,
   "id": "165634a8",
   "metadata": {},
   "outputs": [
    {
     "name": "stdout",
     "output_type": "stream",
     "text": [
      "Cluster to label mapping: {0: 'movie', 1: 'book', 2: 'sports'}\n"
     ]
    }
   ],
   "source": [
    "clusters = np.unique(test_pred)\n",
    "topics = test_df['topic'].unique()\n",
    "\n",
    "# Build confusion matrix between clusters and true topics\n",
    "confusion = np.zeros((len(clusters), len(topics)), dtype=int)\n",
    "for i, cluster in enumerate(clusters):\n",
    "    actuals = test_df.loc[test_pred == cluster, 'topic']\n",
    "    counts = Counter(actuals)\n",
    "    for j, topic in enumerate(topics):\n",
    "        confusion[i, j] = counts[topic]\n",
    "\n",
    "# Assign each cluster to unique topic \n",
    "assigned_topics = set()\n",
    "cluster_to_label = {}\n",
    "for _ in range(len(clusters)):\n",
    "    i, j = np.unravel_index(confusion.argmax(), confusion.shape)\n",
    "    cluster_to_label[clusters[i]] = topics[j]\n",
    "    assigned_topics.add(topics[j])\n",
    "    confusion[i, :] = -1  \n",
    "    confusion[:, j] = -1  \n",
    "\n",
    "print(\"Cluster to label mapping:\", cluster_to_label)"
   ]
  },
  {
   "cell_type": "code",
   "execution_count": 24,
   "id": "46063825",
   "metadata": {},
   "outputs": [],
   "source": [
    "# Assign predicted labels\n",
    "test_df['predicted_topic'] = [cluster_to_label[c] for c in test_pred]"
   ]
  },
  {
   "cell_type": "code",
   "execution_count": 25,
   "id": "8d1ab90f",
   "metadata": {},
   "outputs": [
    {
     "name": "stdout",
     "output_type": "stream",
     "text": [
      "              precision    recall  f1-score   support\n",
      "\n",
      "        book       1.00      1.00      1.00         6\n",
      "       movie       1.00      1.00      1.00         6\n",
      "      sports       1.00      1.00      1.00         6\n",
      "\n",
      "    accuracy                           1.00        18\n",
      "   macro avg       1.00      1.00      1.00        18\n",
      "weighted avg       1.00      1.00      1.00        18\n",
      "\n",
      "Confusion Matrix:\n",
      " [[6 0 0]\n",
      " [0 6 0]\n",
      " [0 0 6]]\n"
     ]
    }
   ],
   "source": [
    "# Evaluation\n",
    "print(classification_report(test_df['topic'], test_df['predicted_topic']))\n",
    "print(\"Confusion Matrix:\\n\", confusion_matrix(test_df['topic'], test_df['predicted_topic']))"
   ]
  },
  {
   "cell_type": "code",
   "execution_count": 26,
   "id": "57ccdf32",
   "metadata": {},
   "outputs": [
    {
     "data": {
      "image/png": "[encoded data removed]",
      "text/plain": [
       "<Figure size 800x400 with 1 Axes>"
      ]
     },
     "metadata": {},
     "output_type": "display_data"
    }
   ],
   "source": [
    "# Generate classification report \n",
    "report = classification_report(test_df['topic'], test_df['predicted_topic'], output_dict=True)\n",
    "report_df = pd.DataFrame(report).transpose()\n",
    "\n",
    "# Plot as table for img\n",
    "fig, ax = plt.subplots(figsize=(8, len(report_df)*0.5 + 1))\n",
    "ax.axis('off')\n",
    "tbl = ax.table(cellText=np.round(report_df.values, 2), colLabels=report_df.columns, rowLabels=report_df.index, loc='center', cellLoc='center')\n",
    "tbl.auto_set_font_size(False)\n",
    "tbl.set_fontsize(10)\n",
    "tbl.scale(1, 1.5)\n",
    "plt.title('Classification Report')\n",
    "plt.savefig('classification_report.png', bbox_inches='tight', dpi=150)\n",
    "plt.show()"
   ]
  },
  {
   "cell_type": "code",
   "execution_count": 27,
   "id": "e0b7b3e3",
   "metadata": {},
   "outputs": [
    {
     "data": {
      "image/png": "[encoded data removed]",
      "text/plain": [
       "<Figure size 640x480 with 2 Axes>"
      ]
     },
     "metadata": {},
     "output_type": "display_data"
    }
   ],
   "source": [
    "# Confusion matrix for img\n",
    "cm = confusion_matrix(test_df['topic'], test_df['predicted_topic'])\n",
    "disp = ConfusionMatrixDisplay(confusion_matrix=cm, display_labels=np.unique(test_df['topic']))\n",
    "disp.plot(cmap='Blues')\n",
    "plt.title('Confusion Matrix')\n",
    "plt.savefig('confusion_matrix.png', dpi=150)\n",
    "plt.show()"
   ]
  },
  {
   "cell_type": "code",
   "execution_count": 28,
   "id": "b20d090a",
   "metadata": {},
   "outputs": [
    {
     "name": "stdout",
     "output_type": "stream",
     "text": [
      "Saved to test_sentences_with_single_topic_label_and_sentiment.csv\n"
     ]
    }
   ],
   "source": [
    "# Save test sentences with real topic labels and sentiment\n",
    "\n",
    "test_df['predicted_topic_label'] = test_df['predicted_topic']\n",
    "\n",
    "\n",
    "test_df[['sentence', 'predicted_topic_label']].to_csv('test_sentences_with_single_topic_label_and_sentiment.csv', index=False)\n",
    "print(\"Saved to test_sentences_with_single_topic_label_and_sentiment.csv\")"
   ]
  }
 ],
 "metadata": {
  "kernelspec": {
   "display_name": "base",
   "language": "python",
   "name": "python3"
  },
  "language_info": {
   "codemirror_mode": {
    "name": "ipython",
    "version": 3
   },
   "file_extension": ".py",
   "mimetype": "text/x-python",
   "name": "python",
   "nbconvert_exporter": "python",
   "pygments_lexer": "ipython3",
   "version": "3.12.2"
  }
 },
 "nbformat": 4,
 "nbformat_minor": 5
}
